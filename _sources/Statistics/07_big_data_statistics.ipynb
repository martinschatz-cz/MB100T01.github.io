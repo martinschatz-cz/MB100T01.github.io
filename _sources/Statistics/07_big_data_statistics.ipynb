{
 "cells": [
  {
   "cell_type": "markdown",
   "metadata": {
    "id": "inl5d-ASWTdu"
   },
   "source": [
    "# Exercise \n",
    "## Big Data definition\n",
    "\n",
    "**Big Data** - files that are complicated to process using conventional computer or software.\n",
    "\n",
    "## Example\n",
    "Table with more than 1,048,576 rows would be impossible to process in MS Excel. Python, R and MatLab are limited by RAM and memory.\n",
    "\n",
    "## Solution\n",
    "Use specialized environment as Metacentrum computers, specialized servers (Mazlík) or Google Collab!"
   ]
  },
  {
   "cell_type": "markdown",
   "metadata": {
    "id": "n-TTp50DX_h7"
   },
   "source": [
    "# Practical example\n",
    "\n",
    "## MICROSTRUCTURE OF INFANT FORMULA  RELATED TO ITS FUNCTION\n",
    "\n",
    "* Infant formula \n",
    "    * pH 7\n",
    "    * drag5 (Far-Red)\n",
    "    * processed using starDist \n",
    "    * 660 000 rows. 35 columns of data (350+ MB csv file)\n",
    "    * Dataset/Results_aptamil.csv\n",
    "\n",
    "* Human milk (pH 7)\n",
    "    * pH 7\n",
    "    * drag5 (Far-Red)\n",
    "    * processed using starDist\n",
    "    * 1 650 000 rows. 35 columns of data (150+ MB csv file)\n",
    "    * Dataset/Results_MM.csv\n",
    "\n",
    "## Goal\n",
    "\n",
    "\n",
    "1.   Load both data sets\n",
    "2.   Clear NaN values\n",
    "3.   Visualize Area distribution\n",
    "4.   Decide statistical distribution (parametric/nonparametric)\n",
    "5.   Define statistic hypothesis\n",
    "6.   Compare Area distributions\n",
    "\n",
    "\n",
    "\n"
   ]
  },
  {
   "cell_type": "markdown",
   "metadata": {
    "id": "lQbqs7QOnUFg"
   },
   "source": [
    "## Expected results from 3D measurements\n",
    "\n",
    "![Results](res.png)"
   ]
  },
  {
   "cell_type": "code",
   "execution_count": 4,
   "metadata": {
    "colab": {
     "base_uri": "https://localhost:8080/"
    },
    "executionInfo": {
     "elapsed": 4519,
     "status": "ok",
     "timestamp": 1622118028788,
     "user": {
      "displayName": "Ondřej Šebesta",
      "photoUrl": "https://lh3.googleusercontent.com/a-/AOh14Gi1EsK4d_rhPUAf_JZtfF4whFZq7_5_ngIAnnlk=s64",
      "userId": "10196531675705983236"
     },
     "user_tz": -120
    },
    "id": "5_BPIrsyWHRT",
    "outputId": "d75ec828-a26a-4895-cf4b-51dec5ec5d3b"
   },
   "outputs": [
    {
     "name": "stdout",
     "output_type": "stream",
     "text": [
      "Collecting bokeh-catplot\n",
      "  Downloading https://files.pythonhosted.org/packages/d9/94/71b69649365a2fc939b7432c1a848b5e07cf3ad7655e995170554bbee338/bokeh_catplot-0.1.9-py2.py3-none-any.whl\n",
      "Requirement already satisfied, skipping upgrade: numpy in /usr/local/lib/python3.7/dist-packages (from bokeh-catplot) (1.19.5)\n",
      "Requirement already satisfied, skipping upgrade: colorcet in /usr/local/lib/python3.7/dist-packages (from bokeh-catplot) (2.0.6)\n",
      "Requirement already satisfied, skipping upgrade: pandas in /usr/local/lib/python3.7/dist-packages (from bokeh-catplot) (1.1.5)\n",
      "Requirement already satisfied, skipping upgrade: xarray in /usr/local/lib/python3.7/dist-packages (from bokeh-catplot) (0.18.2)\n",
      "Requirement already satisfied, skipping upgrade: numba in /usr/local/lib/python3.7/dist-packages (from bokeh-catplot) (0.51.2)\n",
      "Requirement already satisfied, skipping upgrade: bokeh in /usr/local/lib/python3.7/dist-packages (from bokeh-catplot) (2.3.2)\n",
      "Requirement already satisfied, skipping upgrade: pyct>=0.4.4 in /usr/local/lib/python3.7/dist-packages (from colorcet->bokeh-catplot) (0.4.8)\n",
      "Requirement already satisfied, skipping upgrade: param>=1.7.0 in /usr/local/lib/python3.7/dist-packages (from colorcet->bokeh-catplot) (1.10.1)\n",
      "Requirement already satisfied, skipping upgrade: pytz>=2017.2 in /usr/local/lib/python3.7/dist-packages (from pandas->bokeh-catplot) (2018.9)\n",
      "Requirement already satisfied, skipping upgrade: python-dateutil>=2.7.3 in /usr/local/lib/python3.7/dist-packages (from pandas->bokeh-catplot) (2.8.1)\n",
      "Requirement already satisfied, skipping upgrade: setuptools>=40.4 in /usr/local/lib/python3.7/dist-packages (from xarray->bokeh-catplot) (56.1.0)\n",
      "Requirement already satisfied, skipping upgrade: llvmlite<0.35,>=0.34.0.dev0 in /usr/local/lib/python3.7/dist-packages (from numba->bokeh-catplot) (0.34.0)\n",
      "Requirement already satisfied, skipping upgrade: typing-extensions>=3.7.4 in /usr/local/lib/python3.7/dist-packages (from bokeh->bokeh-catplot) (3.7.4.3)\n",
      "Requirement already satisfied, skipping upgrade: tornado>=5.1 in /usr/local/lib/python3.7/dist-packages (from bokeh->bokeh-catplot) (5.1.1)\n",
      "Requirement already satisfied, skipping upgrade: PyYAML>=3.10 in /usr/local/lib/python3.7/dist-packages (from bokeh->bokeh-catplot) (3.13)\n",
      "Requirement already satisfied, skipping upgrade: Jinja2>=2.9 in /usr/local/lib/python3.7/dist-packages (from bokeh->bokeh-catplot) (2.11.3)\n",
      "Requirement already satisfied, skipping upgrade: packaging>=16.8 in /usr/local/lib/python3.7/dist-packages (from bokeh->bokeh-catplot) (20.9)\n",
      "Requirement already satisfied, skipping upgrade: pillow>=7.1.0 in /usr/local/lib/python3.7/dist-packages (from bokeh->bokeh-catplot) (7.1.2)\n",
      "Requirement already satisfied, skipping upgrade: six>=1.5 in /usr/local/lib/python3.7/dist-packages (from python-dateutil>=2.7.3->pandas->bokeh-catplot) (1.15.0)\n",
      "Requirement already satisfied, skipping upgrade: MarkupSafe>=0.23 in /usr/local/lib/python3.7/dist-packages (from Jinja2>=2.9->bokeh->bokeh-catplot) (2.0.1)\n",
      "Requirement already satisfied, skipping upgrade: pyparsing>=2.0.2 in /usr/local/lib/python3.7/dist-packages (from packaging>=16.8->bokeh->bokeh-catplot) (2.4.7)\n",
      "Installing collected packages: bokeh-catplot\n",
      "Successfully installed bokeh-catplot-0.1.9\n"
     ]
    }
   ],
   "source": [
    "import pandas as pd\n",
    "import numpy as np\n",
    "import bokeh.plotting\n",
    "import bokeh.io\n",
    "\n",
    "!pip install --upgrade bokeh-catplot\n",
    "\n",
    "\n",
    "bokeh.io.output_notebook()"
   ]
  }
 ],
 "metadata": {
  "colab": {
   "collapsed_sections": [],
   "name": "08_big_data_statistics.ipynb",
   "provenance": []
  },
  "kernelspec": {
   "display_name": "Python 3 (ipykernel)",
   "language": "python",
   "name": "python3"
  },
  "language_info": {
   "codemirror_mode": {
    "name": "ipython",
    "version": 3
   },
   "file_extension": ".py",
   "mimetype": "text/x-python",
   "name": "python",
   "nbconvert_exporter": "python",
   "pygments_lexer": "ipython3",
   "version": "3.8.15"
  }
 },
 "nbformat": 4,
 "nbformat_minor": 4
}
